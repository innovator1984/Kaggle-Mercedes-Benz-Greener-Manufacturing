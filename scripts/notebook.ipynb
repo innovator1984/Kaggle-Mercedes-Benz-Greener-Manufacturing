{
  "cells": [
    {
      "outputs": [],
      "metadata": {
        "_cell_guid": "a7bb5427-807a-5f9d-7e5b-da9ba7d53bb7",
        "_uuid": "2ee2fc10858c4eb142fcea0cd31768e410a8056c"
      },
      "cell_type": "markdown",
      "execution_count": null,
      "source": "In this notebook, let us explore the dataset that is given for this competition.\n\n**Objective:**\n\nThis dataset contains an anonymized set of variables that describe different Mercedes cars. The ground truth is labeled 'y' and represents the time (in seconds) that the car took to pass testing. \n\nLet us first import the necessary modules."
    },
    {
      "outputs": [],
      "metadata": {
        "_cell_guid": "3f860dba-f833-a61b-cbf4-318d578a0c61",
        "_uuid": "bf49d116907c36e0503f7c91531eb1316cbab707",
        "trusted": false
      },
      "cell_type": "code",
      "execution_count": null,
      "source": "import numpy as np # linear algebra\nimport pandas as pd # data processing, CSV file I/O (e.g. pd.read_csv)\nimport matplotlib.pyplot as plt\nimport seaborn as sns\nfrom sklearn import preprocessing\nimport xgboost as xgb\ncolor = sns.color_palette()\n\n%matplotlib inline\n\npd.options.mode.chained_assignment = None  # default='warn'\npd.options.display.max_columns = 999\n\nfrom subprocess import check_output\nprint(check_output([\"ls\", \"../input\"]).decode(\"utf8\"))"
    },
    {
      "outputs": [],
      "metadata": {
        "_cell_guid": "54d57ad3-5ac6-817e-7a1f-beaa71461c67",
        "_uuid": "567d76f7151d4efd8e6039df10f3f442b262876c",
        "trusted": false
      },
      "cell_type": "code",
      "execution_count": null,
      "source": "train_df = pd.read_csv(\"../input/train.csv\")\ntest_df = pd.read_csv(\"../input/test.csv\")\nprint(\"Train shape : \", train_df.shape)\nprint(\"Test shape : \", test_df.shape)"
    },
    {
      "outputs": [],
      "metadata": {
        "_cell_guid": "8cdace2e-2bdf-0645-9748-1e3b04a0a13b",
        "_uuid": "a13f4329f4b7953f063fad2219ae912a6e6ede59"
      },
      "cell_type": "markdown",
      "execution_count": null,
      "source": "Wow the number of rows are small with 388 columns. We should try not to overfit :)\n\nLet us look at the top few rows."
    },
    {
      "outputs": [],
      "metadata": {
        "_cell_guid": "a48c0537-c1b8-1c25-2184-441ec15c327a",
        "_uuid": "7f8824b562ab604bc7132ca3895904063a2085e5",
        "trusted": false
      },
      "cell_type": "code",
      "execution_count": null,
      "source": "\ntrain_df.head()"
    },
    {
      "outputs": [],
      "metadata": {
        "_cell_guid": "7b74ea12-170b-c5e2-c3b1-bcbeb3137963",
        "_uuid": "4d93b9bb56933d401bf04662069d24ca49813270"
      },
      "cell_type": "markdown",
      "execution_count": null,
      "source": "**Target Variable:**\n\n\"y\" is the variable we need to predict. So let us do some analysis on this variable first."
    },
    {
      "outputs": [],
      "metadata": {
        "_cell_guid": "143d232c-6b56-369d-9e19-10e65acd0190",
        "_uuid": "a1cb06f6b9099c905ecf661a92620f6591e1fa90",
        "trusted": false
      },
      "cell_type": "code",
      "execution_count": null,
      "source": "plt.figure(figsize=(8,6))\nplt.scatter(range(train_df.shape[0]), np.sort(train_df.y.values))\nplt.xlabel('index', fontsize=12)\nplt.ylabel('y', fontsize=12)\nplt.show()"
    },
    {
      "outputs": [],
      "metadata": {
        "_cell_guid": "9b6ade60-58f6-3446-a3d8-da1c5c53e1b7",
        "_uuid": "037ef56e96203dedc60bc7b1ebd4ba395a504fce"
      },
      "cell_type": "markdown",
      "execution_count": null,
      "source": "Seems like a single data point is well above the rest. \n\nNow let us plot the distribution graph."
    },
    {
      "outputs": [],
      "metadata": {
        "_cell_guid": "146e9999-be25-458e-f7bd-5276a782b9c1",
        "_uuid": "02e3c5d9f1717318a640ecf747f6a1a196fbb4fc",
        "trusted": false
      },
      "cell_type": "code",
      "execution_count": null,
      "source": "ulimit = 180\ntrain_df['y'].ix[train_df['y']>ulimit] = ulimit\n\nplt.figure(figsize=(12,8))\nsns.distplot(train_df.y.values, bins=50, kde=False)\nplt.xlabel('y value', fontsize=12)\nplt.show()"
    },
    {
      "outputs": [],
      "metadata": {
        "_cell_guid": "d8de9470-d597-ca46-e091-6c457f0fc5cc",
        "_uuid": "3bd31cad7f45862f00ecb1865aac105f6f011806"
      },
      "cell_type": "markdown",
      "execution_count": null,
      "source": "Now let us have a look at the data type of all the variables present in the dataset."
    },
    {
      "outputs": [],
      "metadata": {
        "_cell_guid": "7b5f8ed8-51a1-a3cf-1dfb-53d61dbc0a3d",
        "_uuid": "e9a33fe2debe6e37c61d181b17a352550fe767a8",
        "trusted": false
      },
      "cell_type": "code",
      "execution_count": null,
      "source": "dtype_df = train_df.dtypes.reset_index()\ndtype_df.columns = [\"Count\", \"Column Type\"]\ndtype_df.groupby(\"Column Type\").aggregate('count').reset_index()"
    },
    {
      "outputs": [],
      "metadata": {
        "_cell_guid": "9b8d4880-f4ce-ebf4-8e50-b0f483101815",
        "_uuid": "0c571f3408802f0f7d64199da35262cc4186984e"
      },
      "cell_type": "markdown",
      "execution_count": null,
      "source": "So majority of the columns are integers with 8 categorical columns and 1 float column (target variable)"
    },
    {
      "outputs": [],
      "metadata": {
        "_cell_guid": "83a063e8-d79c-59c0-23c0-a239e7f4f282",
        "_uuid": "4788054d7033cf56c9958728dc1af24612d262af",
        "trusted": false
      },
      "cell_type": "code",
      "execution_count": null,
      "source": "dtype_df.ix[:10,:]"
    },
    {
      "outputs": [],
      "metadata": {
        "_cell_guid": "fdfc5ba6-b5c1-675f-1544-9b583136f403",
        "_uuid": "daaa2e055583efd161f2232b757aa9827b59e5bf"
      },
      "cell_type": "markdown",
      "execution_count": null,
      "source": "X0 to X8 are the categorical columns.\n\n**Missing values:**\n\nLet us now check for the missing values."
    },
    {
      "outputs": [],
      "metadata": {
        "_cell_guid": "c0cf97e0-470b-fbeb-0b1d-5f289c09c628",
        "_uuid": "5c4726baef8835e25c828e981fc20d156bd3719d",
        "trusted": false
      },
      "cell_type": "code",
      "execution_count": null,
      "source": "missing_df = train_df.isnull().sum(axis=0).reset_index()\nmissing_df.columns = ['column_name', 'missing_count']\nmissing_df = missing_df.ix[missing_df['missing_count']>0]\nmissing_df = missing_df.sort_values(by='missing_count')\nmissing_df"
    },
    {
      "outputs": [],
      "metadata": {
        "_cell_guid": "f78e003a-3ec2-5260-88f0-fd71246fbeda",
        "_uuid": "a723a3c5357d6fa5676bf820f913acce805f0ef6"
      },
      "cell_type": "markdown",
      "execution_count": null,
      "source": "Good to see that there are no missing values in the dataset :) \n\n**Integer Columns Analysis:**"
    },
    {
      "outputs": [],
      "metadata": {
        "_cell_guid": "fc836ed7-5f52-ce86-c287-8756c15dda5d",
        "_uuid": "ed70a94496df016c2b746945169512c396aaa268",
        "trusted": false
      },
      "cell_type": "code",
      "execution_count": null,
      "source": "unique_values_dict = {}\nfor col in train_df.columns:\n    if col not in [\"ID\", \"y\", \"X0\", \"X1\", \"X2\", \"X3\", \"X4\", \"X5\", \"X6\", \"X8\"]:\n        unique_value = str(np.sort(train_df[col].unique()).tolist())\n        tlist = unique_values_dict.get(unique_value, [])\n        tlist.append(col)\n        unique_values_dict[unique_value] = tlist[:]\nfor unique_val, columns in unique_values_dict.items():\n    print(\"Columns containing the unique values : \",unique_val)\n    print(columns)\n    print(\"--------------------------------------------------\")\n        "
    },
    {
      "outputs": [],
      "metadata": {
        "_cell_guid": "4921ec55-24ee-f263-20ab-2b832efda29a",
        "_uuid": "cee2eda7b345475ce09570e8beed1f810da9eea2"
      },
      "cell_type": "markdown",
      "execution_count": null,
      "source": "So all the integer columns are binary with some columns have only one unique value 0. Possibly we could exclude those columns in our modeling activity.\n\nNow let us explore the categorical columns present in the dataset."
    },
    {
      "outputs": [],
      "metadata": {
        "_cell_guid": "e501e9f6-989d-9691-75df-2334c4063780",
        "_uuid": "03aca316dc53bee9afd0021a4300506d34dff885",
        "trusted": false
      },
      "cell_type": "code",
      "execution_count": null,
      "source": "var_name = \"X0\"\ncol_order = np.sort(train_df[var_name].unique()).tolist()\nplt.figure(figsize=(12,6))\nsns.stripplot(x=var_name, y='y', data=train_df, order=col_order)\nplt.xlabel(var_name, fontsize=12)\nplt.ylabel('y', fontsize=12)\nplt.title(\"Distribution of y variable with \"+var_name, fontsize=15)\nplt.show()"
    },
    {
      "outputs": [],
      "metadata": {
        "_cell_guid": "20b666e1-0533-99ed-ba69-b76e29c95abd",
        "_uuid": "8b9ae6066850837099aafd9e5bd1c7b9347be4da",
        "trusted": false
      },
      "cell_type": "code",
      "execution_count": null,
      "source": "var_name = \"X1\"\ncol_order = np.sort(train_df[var_name].unique()).tolist()\nplt.figure(figsize=(12,6))\nsns.stripplot(x=var_name, y='y', data=train_df, order=col_order)\nplt.xlabel(var_name, fontsize=12)\nplt.ylabel('y', fontsize=12)\nplt.title(\"Distribution of y variable with \"+var_name, fontsize=15)\nplt.show()"
    },
    {
      "outputs": [],
      "metadata": {
        "_cell_guid": "25220f45-70d0-7c40-88ba-66781e281a21",
        "_uuid": "de87f78fbe847b925dc503e7a2658bb567cfba05",
        "trusted": false
      },
      "cell_type": "code",
      "execution_count": null,
      "source": "var_name = \"X2\"\ncol_order = np.sort(train_df[var_name].unique()).tolist()\nplt.figure(figsize=(12,6))\nsns.boxplot(x=var_name, y='y', data=train_df, order=col_order)\nplt.xlabel(var_name, fontsize=12)\nplt.ylabel('y', fontsize=12)\nplt.title(\"Distribution of y variable with \"+var_name, fontsize=15)\nplt.show()"
    },
    {
      "outputs": [],
      "metadata": {
        "_cell_guid": "9e1b6456-4dd8-7f6a-db99-17f825b73a44",
        "_uuid": "061dcd4aa8924aa76f2f0d51eadbc366a40f4d20",
        "trusted": false
      },
      "cell_type": "code",
      "execution_count": null,
      "source": "var_name = \"X3\"\ncol_order = np.sort(train_df[var_name].unique()).tolist()\nplt.figure(figsize=(12,6))\nsns.violinplot(x=var_name, y='y', data=train_df, order=col_order)\nplt.xlabel(var_name, fontsize=12)\nplt.ylabel('y', fontsize=12)\nplt.title(\"Distribution of y variable with \"+var_name, fontsize=15)\nplt.show()"
    },
    {
      "outputs": [],
      "metadata": {
        "_cell_guid": "93658ab4-1ab1-2a52-3fcd-633c8e21bea8",
        "_uuid": "808e12728b7817239ac366ce56dc9e796b8e9efc",
        "trusted": false
      },
      "cell_type": "code",
      "execution_count": null,
      "source": "var_name = \"X4\"\ncol_order = np.sort(train_df[var_name].unique()).tolist()\nplt.figure(figsize=(12,6))\nsns.violinplot(x=var_name, y='y', data=train_df, order=col_order)\nplt.xlabel(var_name, fontsize=12)\nplt.ylabel('y', fontsize=12)\nplt.title(\"Distribution of y variable with \"+var_name, fontsize=15)\nplt.show()"
    },
    {
      "outputs": [],
      "metadata": {
        "_cell_guid": "e6648819-5bc3-eeb0-7389-aee959c64be3",
        "_uuid": "69c80930bd2bca6feb0732f7339b70a38c777337",
        "trusted": false
      },
      "cell_type": "code",
      "execution_count": null,
      "source": "var_name = \"X5\"\ncol_order = np.sort(train_df[var_name].unique()).tolist()\nplt.figure(figsize=(12,6))\nsns.boxplot(x=var_name, y='y', data=train_df, order=col_order)\nplt.xlabel(var_name, fontsize=12)\nplt.ylabel('y', fontsize=12)\nplt.title(\"Distribution of y variable with \"+var_name, fontsize=15)\nplt.show()"
    },
    {
      "outputs": [],
      "metadata": {
        "_cell_guid": "e6d05648-f5bc-b475-0419-a1a11106cc1c",
        "_uuid": "afff4b0eeb2cb6a4135b6816229f5cc2cef1ae30",
        "trusted": false
      },
      "cell_type": "code",
      "execution_count": null,
      "source": "var_name = \"X6\"\ncol_order = np.sort(train_df[var_name].unique()).tolist()\nplt.figure(figsize=(12,6))\nsns.boxplot(x=var_name, y='y', data=train_df, order=col_order)\nplt.xlabel(var_name, fontsize=12)\nplt.ylabel('y', fontsize=12)\nplt.title(\"Distribution of y variable with \"+var_name, fontsize=15)\nplt.show()"
    },
    {
      "outputs": [],
      "metadata": {
        "_cell_guid": "9f83c309-4b1b-cd28-1b4d-d6c6434775ff",
        "_uuid": "0a3623ff69030e7e8f5c17faf85bd01f2cbe1bfe",
        "trusted": false
      },
      "cell_type": "code",
      "execution_count": null,
      "source": "var_name = \"X8\"\ncol_order = np.sort(train_df[var_name].unique()).tolist()\nplt.figure(figsize=(12,6))\nsns.boxplot(x=var_name, y='y', data=train_df, order=col_order)\nplt.xlabel(var_name, fontsize=12)\nplt.ylabel('y', fontsize=12)\nplt.title(\"Distribution of y variable with \"+var_name, fontsize=15)\nplt.show()"
    },
    {
      "outputs": [],
      "metadata": {
        "_cell_guid": "3ea34b89-bfb0-51af-815a-7f596a519fe8",
        "_uuid": "28936211b1e1fe031f58050de87d16d4c48d152c"
      },
      "cell_type": "markdown",
      "execution_count": null,
      "source": "**Binary Variables:**\n\nNow we can look into the binary variables. There are quite a few of them as we have seen before. Let us start with getting the number of 0's and 1's in each of these variables."
    },
    {
      "outputs": [],
      "metadata": {
        "_cell_guid": "ea8dfe62-e5d0-d053-30eb-8e1ce8ab6146",
        "_uuid": "9d385e8354a1b3bdab298732539e4d9b5ef667f6",
        "trusted": false
      },
      "cell_type": "code",
      "execution_count": null,
      "source": "zero_count_list = []\none_count_list = []\ncols_list = unique_values_dict['[0, 1]']\nfor col in cols_list:\n    zero_count_list.append((train_df[col]==0).sum())\n    one_count_list.append((train_df[col]==1).sum())\n\nN = len(cols_list)\nind = np.arange(N)\nwidth = 0.35\n\nplt.figure(figsize=(6,100))\np1 = plt.barh(ind, zero_count_list, width, color='red')\np2 = plt.barh(ind, one_count_list, width, left=zero_count_list, color=\"blue\")\nplt.yticks(ind, cols_list)\nplt.legend((p1[0], p2[0]), ('Zero count', 'One Count'))\nplt.show()"
    },
    {
      "outputs": [],
      "metadata": {
        "_cell_guid": "7b68ba6d-2bc4-68e6-c2eb-3c2ce7bdd6ec",
        "_uuid": "100a392745438e08fc8796212a0afe7172296c81"
      },
      "cell_type": "markdown",
      "execution_count": null,
      "source": "Now let us check the mean y value in each of the binary variable."
    },
    {
      "outputs": [],
      "metadata": {
        "_cell_guid": "eabdb70c-1bda-30a2-e44d-1962ef07bb2d",
        "_uuid": "3579b294bb83949459b0e2a319da133be16f4a18",
        "trusted": false
      },
      "cell_type": "code",
      "execution_count": null,
      "source": "\nzero_mean_list = []\none_mean_list = []\ncols_list = unique_values_dict['[0, 1]']\nfor col in cols_list:\n    zero_mean_list.append(train_df.ix[train_df[col]==0].y.mean())\n    one_mean_list.append(train_df.ix[train_df[col]==1].y.mean())\n\nnew_df = pd.DataFrame({\"column_name\":cols_list+cols_list, \"value\":[0]*len(cols_list) + [1]*len(cols_list), \"y_mean\":zero_mean_list+one_mean_list})\nnew_df = new_df.pivot('column_name', 'value', 'y_mean')\n\nplt.figure(figsize=(8,80))\nsns.heatmap(new_df)\nplt.title(\"Mean of y value across binary variables\", fontsize=15)\nplt.show()"
    },
    {
      "outputs": [],
      "metadata": {
        "_cell_guid": "498165ce-53a9-eef2-2c13-00581b8afe88",
        "_uuid": "c1d6e3d0b5c70aed88f57b2b8e8449703de6eb9b"
      },
      "cell_type": "markdown",
      "execution_count": null,
      "source": "Binary variables which shows a good color difference in the above graphs between 0 and 1 are likely to be more predictive given the the count distribution is also good between both the classes (can be seen from the previous graph). We will dive more into the important variables in the later part of the notebook.\n\n**ID variable:**\n\nOne more important thing we need to look at it is ID variable. This will give an idea of how the splits are done across train and test (random or id based) and also to help see if ID has some potential prediction capability (probably not so useful for business)\n\nLet us first see how the 'y' variable changes with ID variable."
    },
    {
      "outputs": [],
      "metadata": {
        "_cell_guid": "d6d90a0b-59f9-37c6-52d1-11409079622a",
        "_uuid": "6b4972c46ea614db7f26394f3c425e347c332859",
        "trusted": false
      },
      "cell_type": "code",
      "execution_count": null,
      "source": "var_name = \"ID\"\nplt.figure(figsize=(12,6))\nsns.regplot(x=var_name, y='y', data=train_df, scatter_kws={'alpha':0.5, 's':30})\nplt.xlabel(var_name, fontsize=12)\nplt.ylabel('y', fontsize=12)\nplt.title(\"Distribution of y variable with \"+var_name, fontsize=15)\nplt.show()"
    },
    {
      "outputs": [],
      "metadata": {
        "_cell_guid": "76faf1c9-18e4-b646-77ad-36ac20b51d5b",
        "_uuid": "2ffa3e694876c74dca34af06ad78dd2bd1e42c74"
      },
      "cell_type": "markdown",
      "execution_count": null,
      "source": "There seems to be a slight decreasing trend with respect to ID variable. Now let us see how the IDs are distributed across train and test."
    },
    {
      "outputs": [],
      "metadata": {
        "_cell_guid": "a02130ef-4776-ec34-16e6-08210c05f465",
        "_uuid": "72b485d4ecb6c6a7de1a62eacd9260eaa182c80e",
        "trusted": false
      },
      "cell_type": "code",
      "execution_count": null,
      "source": "plt.figure(figsize=(6,10))\ntrain_df['eval_set'] = \"train\"\ntest_df['eval_set'] = \"test\"\nfull_df = pd.concat([train_df[[\"ID\",\"eval_set\"]], test_df[[\"ID\",\"eval_set\"]]], axis=0)\n\nplt.figure(figsize=(12,6))\nsns.violinplot(x=\"eval_set\", y='ID', data=full_df)\nplt.xlabel(\"eval_set\", fontsize=12)\nplt.ylabel('y', fontsize=12)\nplt.title(\"Distribution of ID variable with evaluation set\", fontsize=15)\nplt.show()"
    },
    {
      "outputs": [],
      "metadata": {
        "_cell_guid": "29a903cb-cf55-1c67-3ee5-409aee86317a",
        "_uuid": "664e6205bfc5ab82437bec3b3b748f26319a524a"
      },
      "cell_type": "markdown",
      "execution_count": null,
      "source": "Seems like a random split of ID variable between train and test samples.\n\n**Important Variables:**\n\nNow let us run and xgboost model to get the important variables."
    },
    {
      "outputs": [],
      "metadata": {
        "_cell_guid": "eeda9aeb-05b0-cdf7-bafc-825c8e9a9abd",
        "_uuid": "e901601708398c6a4792d494bd6beee1849fec0a",
        "trusted": false
      },
      "cell_type": "code",
      "execution_count": null,
      "source": "for f in [\"X0\", \"X1\", \"X2\", \"X3\", \"X4\", \"X5\", \"X6\", \"X8\"]:\n        lbl = preprocessing.LabelEncoder()\n        lbl.fit(list(train_df[f].values)) \n        train_df[f] = lbl.transform(list(train_df[f].values))\n        \ntrain_y = train_df['y'].values\ntrain_X = train_df.drop([\"ID\", \"y\", \"eval_set\"], axis=1)\n\n# Thanks to anokas for this #\ndef xgb_r2_score(preds, dtrain):\n    labels = dtrain.get_label()\n    return 'r2', r2_score(labels, preds)\n\nxgb_params = {\n    'eta': 0.05,\n    'max_depth': 6,\n    'subsample': 0.7,\n    'colsample_bytree': 0.7,\n    'objective': 'reg:linear',\n    'silent': 1\n}\ndtrain = xgb.DMatrix(train_X, train_y, feature_names=train_X.columns.values)\nmodel = xgb.train(dict(xgb_params, silent=0), dtrain, num_boost_round=100, feval=xgb_r2_score, maximize=True)\n\n# plot the important features #\nfig, ax = plt.subplots(figsize=(12,18))\nxgb.plot_importance(model, max_num_features=50, height=0.8, ax=ax)\nplt.show()"
    },
    {
      "outputs": [],
      "metadata": {
        "_cell_guid": "8f798d1d-e529-5567-a95b-4089583395ed",
        "_uuid": "0448d597af5b9b39fb7f958c5a4f2bf3e5f68566"
      },
      "cell_type": "markdown",
      "execution_count": null,
      "source": "Categorical occupy the top spots followed by binary variables. \n\nLet us also build a Random Forest model and check the important variables."
    },
    {
      "outputs": [],
      "metadata": {
        "_cell_guid": "91e69192-2e77-46af-4cba-540dc50d3f1f",
        "_uuid": "1d6bfa59f97ab988141859604479a71e2b239d91",
        "trusted": false
      },
      "cell_type": "code",
      "execution_count": null,
      "source": "from sklearn import ensemble\nmodel = ensemble.RandomForestRegressor(n_estimators=200, max_depth=10, min_samples_leaf=4, max_features=0.2, n_jobs=-1, random_state=0)\nmodel.fit(train_X, train_y)\nfeat_names = train_X.columns.values\n\n## plot the importances ##\nimportances = model.feature_importances_\nstd = np.std([tree.feature_importances_ for tree in model.estimators_], axis=0)\nindices = np.argsort(importances)[::-1][:20]\n\nplt.figure(figsize=(12,12))\nplt.title(\"Feature importances\")\nplt.bar(range(len(indices)), importances[indices], color=\"r\", align=\"center\")\nplt.xticks(range(len(indices)), feat_names[indices], rotation='vertical')\nplt.xlim([-1, len(indices)])\nplt.show()"
    },
    {
      "outputs": [],
      "metadata": {
        "_cell_guid": "8d04f529-6d5e-84fb-c6ad-7f3375d64d1e",
        "_uuid": "582494e1060760147ea4f0428301f516f8f36724"
      },
      "cell_type": "markdown",
      "execution_count": null,
      "source": "Quite a few differences in the important variables between xgboost and random forest. Not sure why though.!"
    },
    {
      "outputs": [],
      "metadata": {
        "_cell_guid": "9ea4f35d-4c84-63fc-dca2-6322ae3c1e2f",
        "_uuid": "993d8353f1e3aa84ee7a6a27dc7798febead2677"
      },
      "cell_type": "markdown",
      "execution_count": null,
      "source": "**More to come. Stay tuned.!**\n\n**Please upvote if you like it.!**"
    }
  ],
  "metadata": {
    "kernelspec": {
      "display_name": "Python 3",
      "language": "python",
      "name": "python3"
    },
    "_is_fork": false,
    "language_info": {
      "name": "python",
      "version": "3.6.1",
      "mimetype": "text/x-python",
      "codemirror_mode": {
        "name": "ipython",
        "version": 3
      },
      "pygments_lexer": "ipython3",
      "nbconvert_exporter": "python",
      "file_extension": ".py"
    },
    "_change_revision": 0
  },
  "nbformat": 4,
  "nbformat_minor": 0
}